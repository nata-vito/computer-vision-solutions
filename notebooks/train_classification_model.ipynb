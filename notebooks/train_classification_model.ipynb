{
 "cells": [
  {
   "cell_type": "code",
   "execution_count": 82,
   "metadata": {},
   "outputs": [
    {
     "ename": "ModuleNotFoundError",
     "evalue": "No module named 'pytorchtools'",
     "output_type": "error",
     "traceback": [
      "\u001b[0;31m---------------------------------------------------------------------------\u001b[0m",
      "\u001b[0;31mModuleNotFoundError\u001b[0m                       Traceback (most recent call last)",
      "Cell \u001b[0;32mIn[82], line 9\u001b[0m\n\u001b[1;32m      7\u001b[0m \u001b[38;5;28;01mimport\u001b[39;00m \u001b[38;5;21;01mmatplotlib\u001b[39;00m\u001b[38;5;21;01m.\u001b[39;00m\u001b[38;5;21;01mpyplot\u001b[39;00m \u001b[38;5;28;01mas\u001b[39;00m \u001b[38;5;21;01mplt\u001b[39;00m\n\u001b[1;32m      8\u001b[0m \u001b[38;5;28;01mimport\u001b[39;00m \u001b[38;5;21;01mnumpy\u001b[39;00m \u001b[38;5;28;01mas\u001b[39;00m \u001b[38;5;21;01mnp\u001b[39;00m\n\u001b[0;32m----> 9\u001b[0m \u001b[38;5;28;01mfrom\u001b[39;00m \u001b[38;5;21;01mpytorchtools\u001b[39;00m \u001b[38;5;28;01mimport\u001b[39;00m EarlyStopping\n",
      "\u001b[0;31mModuleNotFoundError\u001b[0m: No module named 'pytorchtools'"
     ]
    }
   ],
   "source": [
    "import torch \n",
    "from torch import nn\n",
    "from torch.utils.data import DataLoader\n",
    "from torchvision import datasets\n",
    "from torchvision.transforms import ToTensor\n",
    "import wandb\n",
    "import matplotlib.pyplot as plt\n",
    "import numpy as np\n",
    "from pytorchtools import EarlyStopping"
   ]
  },
  {
   "cell_type": "code",
   "execution_count": 26,
   "metadata": {},
   "outputs": [
    {
     "name": "stderr",
     "output_type": "stream",
     "text": [
      "\u001b[34m\u001b[1mwandb\u001b[0m: Using wandb-core as the SDK backend. Please refer to https://wandb.me/wandb-core for more information.\n",
      "\u001b[34m\u001b[1mwandb\u001b[0m: Currently logged in as: \u001b[33mnata-vito\u001b[0m. Use \u001b[1m`wandb login --relogin`\u001b[0m to force relogin\n"
     ]
    },
    {
     "data": {
      "text/plain": [
       "True"
      ]
     },
     "execution_count": 26,
     "metadata": {},
     "output_type": "execute_result"
    }
   ],
   "source": [
    "wandb.login()"
   ]
  },
  {
   "cell_type": "code",
   "execution_count": 2,
   "metadata": {},
   "outputs": [
    {
     "name": "stdout",
     "output_type": "stream",
     "text": [
      "Downloading http://fashion-mnist.s3-website.eu-central-1.amazonaws.com/train-images-idx3-ubyte.gz\n",
      "Downloading http://fashion-mnist.s3-website.eu-central-1.amazonaws.com/train-images-idx3-ubyte.gz to data/FashionMNIST/raw/train-images-idx3-ubyte.gz\n"
     ]
    },
    {
     "name": "stderr",
     "output_type": "stream",
     "text": [
      "100%|██████████| 26421880/26421880 [00:10<00:00, 2586399.75it/s]\n"
     ]
    },
    {
     "name": "stdout",
     "output_type": "stream",
     "text": [
      "Extracting data/FashionMNIST/raw/train-images-idx3-ubyte.gz to data/FashionMNIST/raw\n",
      "\n",
      "Downloading http://fashion-mnist.s3-website.eu-central-1.amazonaws.com/train-labels-idx1-ubyte.gz\n",
      "Downloading http://fashion-mnist.s3-website.eu-central-1.amazonaws.com/train-labels-idx1-ubyte.gz to data/FashionMNIST/raw/train-labels-idx1-ubyte.gz\n"
     ]
    },
    {
     "name": "stderr",
     "output_type": "stream",
     "text": [
      "100%|██████████| 29515/29515 [00:00<00:00, 135873.19it/s]\n"
     ]
    },
    {
     "name": "stdout",
     "output_type": "stream",
     "text": [
      "Extracting data/FashionMNIST/raw/train-labels-idx1-ubyte.gz to data/FashionMNIST/raw\n",
      "\n",
      "Downloading http://fashion-mnist.s3-website.eu-central-1.amazonaws.com/t10k-images-idx3-ubyte.gz\n",
      "Downloading http://fashion-mnist.s3-website.eu-central-1.amazonaws.com/t10k-images-idx3-ubyte.gz to data/FashionMNIST/raw/t10k-images-idx3-ubyte.gz\n"
     ]
    },
    {
     "name": "stderr",
     "output_type": "stream",
     "text": [
      "100%|██████████| 4422102/4422102 [00:03<00:00, 1240250.10it/s]\n"
     ]
    },
    {
     "name": "stdout",
     "output_type": "stream",
     "text": [
      "Extracting data/FashionMNIST/raw/t10k-images-idx3-ubyte.gz to data/FashionMNIST/raw\n",
      "\n",
      "Downloading http://fashion-mnist.s3-website.eu-central-1.amazonaws.com/t10k-labels-idx1-ubyte.gz\n",
      "Downloading http://fashion-mnist.s3-website.eu-central-1.amazonaws.com/t10k-labels-idx1-ubyte.gz to data/FashionMNIST/raw/t10k-labels-idx1-ubyte.gz\n"
     ]
    },
    {
     "name": "stderr",
     "output_type": "stream",
     "text": [
      "100%|██████████| 5148/5148 [00:00<00:00, 12178385.22it/s]\n"
     ]
    },
    {
     "name": "stdout",
     "output_type": "stream",
     "text": [
      "Extracting data/FashionMNIST/raw/t10k-labels-idx1-ubyte.gz to data/FashionMNIST/raw\n",
      "\n"
     ]
    }
   ],
   "source": [
    "training_data = datasets.FashionMNIST(\n",
    "    root = \"data\",\n",
    "    train = True,\n",
    "    download = True,\n",
    "    transform = ToTensor(),\n",
    ")\n",
    "\n",
    "test_data = datasets.FashionMNIST(\n",
    "    root = \"data\",\n",
    "    train = False,\n",
    "    download = True,\n",
    "    transform = ToTensor(), \n",
    ")"
   ]
  },
  {
   "cell_type": "code",
   "execution_count": 74,
   "metadata": {},
   "outputs": [
    {
     "name": "stdout",
     "output_type": "stream",
     "text": [
      "Shape of X [N, C, H, W]: torch.Size([75, 1, 28, 28])\n",
      "Shape of Y: torch.Size([75]) torch.int64\n",
      "<class 'torch.Tensor'>\n",
      "torch.Size([75, 1, 28, 28])\n",
      "torch.Size([75])\n"
     ]
    }
   ],
   "source": [
    "batch_size = 75\n",
    "\n",
    "train_dataloader = DataLoader(training_data, batch_size = batch_size)\n",
    "test_dataloader = DataLoader(test_data, batch_size = batch_size)\n",
    "\n",
    "for X, y in test_dataloader:\n",
    "    print(f\"Shape of X [N, C, H, W]: {X.shape}\")\n",
    "    print(f\"Shape of Y: {y.shape} {y.dtype}\")\n",
    "    break\n",
    "\n",
    "dataiter = iter(train_dataloader)\n",
    "images, labels = dataiter.__next__()\n",
    "print(type(images))\n",
    "print(images.shape)\n",
    "print(labels.shape)"
   ]
  },
  {
   "cell_type": "code",
   "execution_count": 75,
   "metadata": {},
   "outputs": [
    {
     "data": {
      "text/plain": [
       "<matplotlib.image.AxesImage at 0x7f6c41029040>"
      ]
     },
     "execution_count": 75,
     "metadata": {},
     "output_type": "execute_result"
    },
    {
     "data": {
      "image/png": "[encoded data removed]",
      "text/plain": [
       "<Figure size 640x480 with 1 Axes>"
      ]
     },
     "metadata": {
      "image/png": {
       "height": 413,
       "width": 417
      }
     },
     "output_type": "display_data"
    }
   ],
   "source": [
    "plt.imshow(images[5].numpy().squeeze(), cmap = 'Greys_r')"
   ]
  },
  {
   "cell_type": "code",
   "execution_count": 76,
   "metadata": {},
   "outputs": [
    {
     "name": "stdout",
     "output_type": "stream",
     "text": [
      "Using cuda device\n",
      "NeuralNetwork(\n",
      "  (flatten): Flatten(start_dim=1, end_dim=-1)\n",
      "  (linear_relu_stack): Sequential(\n",
      "    (0): Linear(in_features=784, out_features=512, bias=True)\n",
      "    (1): ReLU()\n",
      "    (2): Linear(in_features=512, out_features=512, bias=True)\n",
      "    (3): ReLU()\n",
      "    (4): Linear(in_features=512, out_features=10, bias=True)\n",
      "  )\n",
      ")\n"
     ]
    }
   ],
   "source": [
    "# Get cpu, gpu or mps device for training.\n",
    "device = (\n",
    "    \"cuda\"\n",
    "    if torch.cuda.is_available()\n",
    "    else \"mps\"\n",
    "    if torch.backends.mps.is_available()\n",
    "    else \"cpu\"\n",
    ")\n",
    "print(f\"Using {device} device\")\n",
    "\n",
    "# Define model\n",
    "class NeuralNetwork(nn.Module):\n",
    "    def __init__(self):\n",
    "        super().__init__()\n",
    "        self.flatten = nn.Flatten()\n",
    "        self.linear_relu_stack = nn.Sequential(\n",
    "            nn.Linear(28*28, 512),\n",
    "            nn.ReLU(),\n",
    "            nn.Linear(512, 512),\n",
    "            nn.ReLU(),\n",
    "            nn.Linear(512, 10)\n",
    "        )\n",
    "\n",
    "    def forward(self, x):\n",
    "        x = self.flatten(x)\n",
    "        logits = self.linear_relu_stack(x)\n",
    "        return logits\n",
    "\n",
    "model = NeuralNetwork().to(device)\n",
    "print(model)\n"
   ]
  },
  {
   "cell_type": "code",
   "execution_count": 86,
   "metadata": {},
   "outputs": [],
   "source": [
    "loss_fn = nn.CrossEntropyLoss()\n",
    "optimizer = torch.optim.SGD(model.parameters(), lr=1e-3)"
   ]
  },
  {
   "cell_type": "code",
   "execution_count": 87,
   "metadata": {},
   "outputs": [],
   "source": [
    "import copy\n",
    "def train(dataloader, model, loss_fn, optimizer):\n",
    "    #Initialize Variables for EarlyStopping\n",
    "    best_loss = float('inf')\n",
    "    best_model_weights = None\n",
    "    patience = 10\n",
    "\n",
    "    size = len(dataloader.dataset)\n",
    "    model.train()\n",
    "    \n",
    "    for batch, (X, y) in enumerate(dataloader):\n",
    "        X, y = X.to(device), y.to(device)\n",
    "\n",
    "        # Compute prediction error\n",
    "        pred = model(X)\n",
    "        loss = loss_fn(pred, y)\n",
    "\n",
    "        # Backpropagation\n",
    "        loss.backward()\n",
    "        optimizer.step()\n",
    "        optimizer.zero_grad()\n",
    "        \n",
    "       \n",
    "        if batch % 100 == 0:\n",
    "            loss, current = loss.item(), (batch + 1) * len(X)\n",
    "            print(f\"loss: {loss:>7f}  [{current:>5d}/{size:>5d}]\")\n",
    "\n",
    "         # Early stopping\n",
    "        if loss < best_loss:\n",
    "            best_loss = loss\n",
    "            best_model_weights = copy.deepcopy(model.state_dict())  # Deep copy here      \n",
    "            patience = 10  # Reset patience counter\n",
    "        else:\n",
    "            patience -= 1\n",
    "            if patience == 0:\n",
    "                break"
   ]
  },
  {
   "cell_type": "code",
   "execution_count": 79,
   "metadata": {},
   "outputs": [],
   "source": [
    "def test(dataloader, model, loss_fn):\n",
    "    size = len(dataloader.dataset)\n",
    "    num_batches = len(dataloader)\n",
    "    model.eval()\n",
    "    test_loss, correct = 0, 0\n",
    "    with torch.no_grad():\n",
    "        for X, y in dataloader:\n",
    "            X, y = X.to(device), y.to(device)\n",
    "            pred = model(X)\n",
    "            test_loss += loss_fn(pred, y).item()\n",
    "            correct += (pred.argmax(1) == y).type(torch.float).sum().item()\n",
    "    test_loss /= num_batches\n",
    "    correct /= size\n",
    "    print(f\"Test Error: \\n Accuracy: {(100*correct):>0.1f}%, Avg loss: {test_loss:>8f} \\n\")\n",
    "    wandb.log({\"Accuracy\": (100*correct), \"Avg loss\": test_loss})"
   ]
  },
  {
   "cell_type": "code",
   "execution_count": 80,
   "metadata": {},
   "outputs": [],
   "source": [
    "class EarlyStopping:\n",
    "    def __init__(self, patience=5, delta=0):\n",
    "        self.patience = patience\n",
    "        self.delta = delta\n",
    "        self.best_score = None\n",
    "        self.early_stop = False\n",
    "        self.counter = 0\n",
    "        self.best_model_state = None\n",
    "\n",
    "    def __call__(self, val_loss, model):\n",
    "        score = -val_loss\n",
    "        if self.best_score is None:\n",
    "            self.best_score = score\n",
    "            self.best_model_state = model.state_dict()\n",
    "        elif score < self.best_score + self.delta:\n",
    "            self.counter += 1\n",
    "            if self.counter >= self.patience:\n",
    "                self.early_stop = True\n",
    "        else:\n",
    "            self.best_score = score\n",
    "            self.best_model_state = model.state_dict()\n",
    "            self.counter = 0\n",
    "\n",
    "    def load_best_model(self, model):\n",
    "        model.load_state_dict(self.best_model_state)"
   ]
  },
  {
   "cell_type": "code",
   "execution_count": 88,
   "metadata": {},
   "outputs": [
    {
     "data": {
      "text/html": [
       "Finishing last run (ID:upqdwonx) before initializing another..."
      ],
      "text/plain": [
       "<IPython.core.display.HTML object>"
      ]
     },
     "metadata": {},
     "output_type": "display_data"
    },
    {
     "data": {
      "text/html": [
       "<style>\n",
       "    table.wandb td:nth-child(1) { padding: 0 10px; text-align: left ; width: auto;} td:nth-child(2) {text-align: left ; width: 100%}\n",
       "    .wandb-row { display: flex; flex-direction: row; flex-wrap: wrap; justify-content: flex-start; width: 100% }\n",
       "    .wandb-col { display: flex; flex-direction: column; flex-basis: 100%; flex: 1; padding: 10px; }\n",
       "    </style>\n",
       "<div class=\"wandb-row\"><div class=\"wandb-col\"><h3>Run history:</h3><br/><table class=\"wandb\"><tr><td>Accuracy</td><td>▁▃▃▄▄▅▆▆▆▆▇▇▇▇▇▇▇▇▇▇████████████████████</td></tr><tr><td>Avg loss</td><td>█▆▅▅▃▃▂▂▂▂▂▁▁▁▁▁▁▁▁▁▁▁▁▁▁▁▁▁▁▁▁▁▁▁▁▁▁▁▁▁</td></tr></table><br/></div><div class=\"wandb-col\"><h3>Run summary:</h3><br/><table class=\"wandb\"><tr><td>Accuracy</td><td>84.26</td></tr><tr><td>Avg loss</td><td>0.44613</td></tr></table><br/></div></div>"
      ],
      "text/plain": [
       "<IPython.core.display.HTML object>"
      ]
     },
     "metadata": {},
     "output_type": "display_data"
    },
    {
     "data": {
      "text/html": [
       " View run <strong style=\"color:#cdcd00\">robust-cosmos-9</strong> at: <a href='https://wandb.ai/nata-vito/MPT-Defeitos-em-cabos/runs/upqdwonx' target=\"_blank\">https://wandb.ai/nata-vito/MPT-Defeitos-em-cabos/runs/upqdwonx</a><br/> View project at: <a href='https://wandb.ai/nata-vito/MPT-Defeitos-em-cabos' target=\"_blank\">https://wandb.ai/nata-vito/MPT-Defeitos-em-cabos</a><br/>Synced 5 W&B file(s), 0 media file(s), 0 artifact file(s) and 0 other file(s)"
      ],
      "text/plain": [
       "<IPython.core.display.HTML object>"
      ]
     },
     "metadata": {},
     "output_type": "display_data"
    },
    {
     "data": {
      "text/html": [
       "Find logs at: <code>./wandb/run-20241001_145742-upqdwonx/logs</code>"
      ],
      "text/plain": [
       "<IPython.core.display.HTML object>"
      ]
     },
     "metadata": {},
     "output_type": "display_data"
    },
    {
     "data": {
      "text/html": [
       "Successfully finished last run (ID:upqdwonx). Initializing new run:<br/>"
      ],
      "text/plain": [
       "<IPython.core.display.HTML object>"
      ]
     },
     "metadata": {},
     "output_type": "display_data"
    },
    {
     "data": {
      "text/html": [
       "Tracking run with wandb version 0.18.2"
      ],
      "text/plain": [
       "<IPython.core.display.HTML object>"
      ]
     },
     "metadata": {},
     "output_type": "display_data"
    },
    {
     "data": {
      "text/html": [
       "Run data is saved locally in <code>/home/nata-brain/Documents/proj/computer-vision-solutions/Vehicle_Speed_Estimation/source/notebooks/wandb/run-20241001_151332-udg76ok6</code>"
      ],
      "text/plain": [
       "<IPython.core.display.HTML object>"
      ]
     },
     "metadata": {},
     "output_type": "display_data"
    },
    {
     "data": {
      "text/html": [
       "Syncing run <strong><a href='https://wandb.ai/nata-vito/MPT-Defeitos-em-cabos/runs/udg76ok6' target=\"_blank\">silvery-firefly-10</a></strong> to <a href='https://wandb.ai/nata-vito/MPT-Defeitos-em-cabos' target=\"_blank\">Weights & Biases</a> (<a href='https://wandb.me/run' target=\"_blank\">docs</a>)<br/>"
      ],
      "text/plain": [
       "<IPython.core.display.HTML object>"
      ]
     },
     "metadata": {},
     "output_type": "display_data"
    },
    {
     "data": {
      "text/html": [
       " View project at <a href='https://wandb.ai/nata-vito/MPT-Defeitos-em-cabos' target=\"_blank\">https://wandb.ai/nata-vito/MPT-Defeitos-em-cabos</a>"
      ],
      "text/plain": [
       "<IPython.core.display.HTML object>"
      ]
     },
     "metadata": {},
     "output_type": "display_data"
    },
    {
     "data": {
      "text/html": [
       " View run at <a href='https://wandb.ai/nata-vito/MPT-Defeitos-em-cabos/runs/udg76ok6' target=\"_blank\">https://wandb.ai/nata-vito/MPT-Defeitos-em-cabos/runs/udg76ok6</a>"
      ],
      "text/plain": [
       "<IPython.core.display.HTML object>"
      ]
     },
     "metadata": {},
     "output_type": "display_data"
    },
    {
     "name": "stdout",
     "output_type": "stream",
     "text": [
      "Epoch 1\n",
      "-------------------------------\n",
      "loss: 0.260512  [   75/60000]\n",
      "Test Error: \n",
      " Accuracy: 84.3%, Avg loss: 0.446094 \n",
      "\n",
      "Epoch 2\n",
      "-------------------------------\n",
      "loss: 0.258635  [   75/60000]\n",
      "Test Error: \n",
      " Accuracy: 84.2%, Avg loss: 0.446264 \n",
      "\n",
      "Epoch 3\n",
      "-------------------------------\n",
      "loss: 0.257895  [   75/60000]\n",
      "Test Error: \n",
      " Accuracy: 84.3%, Avg loss: 0.446398 \n",
      "\n",
      "Epoch 4\n",
      "-------------------------------\n",
      "loss: 0.257422  [   75/60000]\n",
      "Test Error: \n",
      " Accuracy: 84.3%, Avg loss: 0.446512 \n",
      "\n",
      "Epoch 5\n",
      "-------------------------------\n",
      "loss: 0.257029  [   75/60000]\n",
      "Test Error: \n",
      " Accuracy: 84.3%, Avg loss: 0.446615 \n",
      "\n",
      "Epoch 6\n",
      "-------------------------------\n",
      "loss: 0.256670  [   75/60000]\n",
      "Test Error: \n",
      " Accuracy: 84.3%, Avg loss: 0.446711 \n",
      "\n",
      "Epoch 7\n",
      "-------------------------------\n",
      "loss: 0.256321  [   75/60000]\n",
      "Test Error: \n",
      " Accuracy: 84.3%, Avg loss: 0.446801 \n",
      "\n",
      "Epoch 8\n",
      "-------------------------------\n",
      "loss: 0.255980  [   75/60000]\n",
      "Test Error: \n",
      " Accuracy: 84.3%, Avg loss: 0.446884 \n",
      "\n",
      "Epoch 9\n",
      "-------------------------------\n",
      "loss: 0.255639  [   75/60000]\n",
      "Test Error: \n",
      " Accuracy: 84.3%, Avg loss: 0.446959 \n",
      "\n",
      "Epoch 10\n",
      "-------------------------------\n",
      "loss: 0.255296  [   75/60000]\n",
      "Test Error: \n",
      " Accuracy: 84.2%, Avg loss: 0.447029 \n",
      "\n",
      "Epoch 11\n",
      "-------------------------------\n",
      "loss: 0.254972  [   75/60000]\n",
      "Test Error: \n",
      " Accuracy: 84.3%, Avg loss: 0.447096 \n",
      "\n",
      "Epoch 12\n",
      "-------------------------------\n",
      "loss: 0.254645  [   75/60000]\n",
      "Test Error: \n",
      " Accuracy: 84.2%, Avg loss: 0.447157 \n",
      "\n",
      "Epoch 13\n",
      "-------------------------------\n",
      "loss: 0.254320  [   75/60000]\n",
      "Test Error: \n",
      " Accuracy: 84.2%, Avg loss: 0.447216 \n",
      "\n",
      "Epoch 14\n",
      "-------------------------------\n",
      "loss: 0.253993  [   75/60000]\n",
      "Test Error: \n",
      " Accuracy: 84.2%, Avg loss: 0.447271 \n",
      "\n",
      "Epoch 15\n",
      "-------------------------------\n",
      "loss: 0.253666  [   75/60000]\n",
      "Test Error: \n",
      " Accuracy: 84.2%, Avg loss: 0.447323 \n",
      "\n",
      "Epoch 16\n",
      "-------------------------------\n",
      "loss: 0.253333  [   75/60000]\n",
      "Test Error: \n",
      " Accuracy: 84.2%, Avg loss: 0.447372 \n",
      "\n",
      "Epoch 17\n",
      "-------------------------------\n",
      "loss: 0.252998  [   75/60000]\n",
      "Test Error: \n",
      " Accuracy: 84.2%, Avg loss: 0.447418 \n",
      "\n",
      "Epoch 18\n",
      "-------------------------------\n",
      "loss: 0.252660  [   75/60000]\n",
      "Test Error: \n",
      " Accuracy: 84.2%, Avg loss: 0.447464 \n",
      "\n",
      "Epoch 19\n",
      "-------------------------------\n",
      "loss: 0.252321  [   75/60000]\n",
      "Test Error: \n",
      " Accuracy: 84.2%, Avg loss: 0.447507 \n",
      "\n",
      "Epoch 20\n",
      "-------------------------------\n",
      "loss: 0.251982  [   75/60000]\n",
      "Test Error: \n",
      " Accuracy: 84.2%, Avg loss: 0.447549 \n",
      "\n",
      "Epoch 21\n",
      "-------------------------------\n",
      "loss: 0.251650  [   75/60000]\n",
      "Test Error: \n",
      " Accuracy: 84.2%, Avg loss: 0.447589 \n",
      "\n",
      "Epoch 22\n",
      "-------------------------------\n",
      "loss: 0.251315  [   75/60000]\n",
      "Test Error: \n",
      " Accuracy: 84.2%, Avg loss: 0.447629 \n",
      "\n",
      "Epoch 23\n",
      "-------------------------------\n",
      "loss: 0.250979  [   75/60000]\n",
      "Test Error: \n",
      " Accuracy: 84.2%, Avg loss: 0.447666 \n",
      "\n",
      "Epoch 24\n",
      "-------------------------------\n",
      "loss: 0.250650  [   75/60000]\n",
      "Test Error: \n",
      " Accuracy: 84.2%, Avg loss: 0.447706 \n",
      "\n",
      "Epoch 25\n",
      "-------------------------------\n",
      "loss: 0.250316  [   75/60000]\n",
      "Test Error: \n",
      " Accuracy: 84.1%, Avg loss: 0.447742 \n",
      "\n",
      "Epoch 26\n",
      "-------------------------------\n",
      "loss: 0.249988  [   75/60000]\n",
      "Test Error: \n",
      " Accuracy: 84.1%, Avg loss: 0.447780 \n",
      "\n",
      "Epoch 27\n",
      "-------------------------------\n",
      "loss: 0.249659  [   75/60000]\n",
      "Test Error: \n",
      " Accuracy: 84.1%, Avg loss: 0.447818 \n",
      "\n",
      "Epoch 28\n",
      "-------------------------------\n",
      "loss: 0.249335  [   75/60000]\n",
      "Test Error: \n",
      " Accuracy: 84.1%, Avg loss: 0.447855 \n",
      "\n",
      "Epoch 29\n",
      "-------------------------------\n",
      "loss: 0.249010  [   75/60000]\n",
      "Test Error: \n",
      " Accuracy: 84.1%, Avg loss: 0.447892 \n",
      "\n",
      "Epoch 30\n",
      "-------------------------------\n",
      "loss: 0.248687  [   75/60000]\n",
      "Test Error: \n",
      " Accuracy: 84.1%, Avg loss: 0.447930 \n",
      "\n",
      "Epoch 31\n",
      "-------------------------------\n",
      "loss: 0.248365  [   75/60000]\n",
      "Test Error: \n",
      " Accuracy: 84.1%, Avg loss: 0.447968 \n",
      "\n",
      "Epoch 32\n",
      "-------------------------------\n",
      "loss: 0.248048  [   75/60000]\n",
      "Test Error: \n",
      " Accuracy: 84.1%, Avg loss: 0.448006 \n",
      "\n",
      "Epoch 33\n",
      "-------------------------------\n",
      "loss: 0.247739  [   75/60000]\n",
      "Test Error: \n",
      " Accuracy: 84.2%, Avg loss: 0.448044 \n",
      "\n",
      "Epoch 34\n",
      "-------------------------------\n",
      "loss: 0.247430  [   75/60000]\n",
      "Test Error: \n",
      " Accuracy: 84.1%, Avg loss: 0.448083 \n",
      "\n",
      "Epoch 35\n",
      "-------------------------------\n",
      "loss: 0.247127  [   75/60000]\n",
      "Test Error: \n",
      " Accuracy: 84.1%, Avg loss: 0.448123 \n",
      "\n",
      "Epoch 36\n",
      "-------------------------------\n",
      "loss: 0.246820  [   75/60000]\n",
      "Test Error: \n",
      " Accuracy: 84.1%, Avg loss: 0.448162 \n",
      "\n",
      "Epoch 37\n",
      "-------------------------------\n",
      "loss: 0.246521  [   75/60000]\n",
      "Test Error: \n",
      " Accuracy: 84.2%, Avg loss: 0.448202 \n",
      "\n",
      "Epoch 38\n",
      "-------------------------------\n",
      "loss: 0.246224  [   75/60000]\n",
      "Test Error: \n",
      " Accuracy: 84.2%, Avg loss: 0.448243 \n",
      "\n",
      "Epoch 39\n",
      "-------------------------------\n",
      "loss: 0.245927  [   75/60000]\n",
      "Test Error: \n",
      " Accuracy: 84.1%, Avg loss: 0.448286 \n",
      "\n",
      "Epoch 40\n",
      "-------------------------------\n",
      "loss: 0.245630  [   75/60000]\n",
      "Test Error: \n",
      " Accuracy: 84.1%, Avg loss: 0.448330 \n",
      "\n",
      "Epoch 41\n",
      "-------------------------------\n",
      "loss: 0.245329  [   75/60000]\n",
      "Test Error: \n",
      " Accuracy: 84.2%, Avg loss: 0.448373 \n",
      "\n",
      "Epoch 42\n",
      "-------------------------------\n",
      "loss: 0.245037  [   75/60000]\n",
      "Test Error: \n",
      " Accuracy: 84.2%, Avg loss: 0.448418 \n",
      "\n",
      "Epoch 43\n",
      "-------------------------------\n",
      "loss: 0.244744  [   75/60000]\n",
      "Test Error: \n",
      " Accuracy: 84.1%, Avg loss: 0.448462 \n",
      "\n",
      "Epoch 44\n",
      "-------------------------------\n",
      "loss: 0.244458  [   75/60000]\n",
      "Test Error: \n",
      " Accuracy: 84.1%, Avg loss: 0.448507 \n",
      "\n",
      "Epoch 45\n",
      "-------------------------------\n",
      "loss: 0.244169  [   75/60000]\n",
      "Test Error: \n",
      " Accuracy: 84.1%, Avg loss: 0.448553 \n",
      "\n",
      "Epoch 46\n",
      "-------------------------------\n",
      "loss: 0.243883  [   75/60000]\n",
      "Test Error: \n",
      " Accuracy: 84.1%, Avg loss: 0.448599 \n",
      "\n",
      "Epoch 47\n",
      "-------------------------------\n",
      "loss: 0.243598  [   75/60000]\n",
      "Test Error: \n",
      " Accuracy: 84.1%, Avg loss: 0.448646 \n",
      "\n",
      "Epoch 48\n",
      "-------------------------------\n",
      "loss: 0.243317  [   75/60000]\n",
      "Test Error: \n",
      " Accuracy: 84.1%, Avg loss: 0.448693 \n",
      "\n",
      "Epoch 49\n",
      "-------------------------------\n",
      "loss: 0.243038  [   75/60000]\n",
      "Test Error: \n",
      " Accuracy: 84.2%, Avg loss: 0.448740 \n",
      "\n",
      "Epoch 50\n",
      "-------------------------------\n",
      "loss: 0.242762  [   75/60000]\n",
      "Test Error: \n",
      " Accuracy: 84.2%, Avg loss: 0.448787 \n",
      "\n",
      "Epoch 51\n",
      "-------------------------------\n",
      "loss: 0.242487  [   75/60000]\n",
      "Test Error: \n",
      " Accuracy: 84.2%, Avg loss: 0.448835 \n",
      "\n",
      "Epoch 52\n",
      "-------------------------------\n",
      "loss: 0.242213  [   75/60000]\n",
      "Test Error: \n",
      " Accuracy: 84.2%, Avg loss: 0.448883 \n",
      "\n",
      "Epoch 53\n",
      "-------------------------------\n",
      "loss: 0.241941  [   75/60000]\n",
      "Test Error: \n",
      " Accuracy: 84.2%, Avg loss: 0.448929 \n",
      "\n",
      "Epoch 54\n",
      "-------------------------------\n",
      "loss: 0.241675  [   75/60000]\n",
      "Test Error: \n",
      " Accuracy: 84.1%, Avg loss: 0.448978 \n",
      "\n",
      "Epoch 55\n",
      "-------------------------------\n",
      "loss: 0.241401  [   75/60000]\n",
      "Test Error: \n",
      " Accuracy: 84.1%, Avg loss: 0.449025 \n",
      "\n",
      "Epoch 56\n",
      "-------------------------------\n",
      "loss: 0.241136  [   75/60000]\n",
      "Test Error: \n",
      " Accuracy: 84.1%, Avg loss: 0.449074 \n",
      "\n",
      "Epoch 57\n",
      "-------------------------------\n",
      "loss: 0.240866  [   75/60000]\n",
      "Test Error: \n",
      " Accuracy: 84.1%, Avg loss: 0.449120 \n",
      "\n",
      "Epoch 58\n",
      "-------------------------------\n",
      "loss: 0.240604  [   75/60000]\n",
      "Test Error: \n",
      " Accuracy: 84.1%, Avg loss: 0.449169 \n",
      "\n",
      "Epoch 59\n",
      "-------------------------------\n",
      "loss: 0.240343  [   75/60000]\n",
      "Test Error: \n",
      " Accuracy: 84.1%, Avg loss: 0.449219 \n",
      "\n",
      "Epoch 60\n",
      "-------------------------------\n",
      "loss: 0.240086  [   75/60000]\n",
      "Test Error: \n",
      " Accuracy: 84.1%, Avg loss: 0.449267 \n",
      "\n",
      "Epoch 61\n",
      "-------------------------------\n",
      "loss: 0.239834  [   75/60000]\n",
      "Test Error: \n",
      " Accuracy: 84.0%, Avg loss: 0.449316 \n",
      "\n",
      "Epoch 62\n",
      "-------------------------------\n",
      "loss: 0.239586  [   75/60000]\n",
      "Test Error: \n",
      " Accuracy: 84.1%, Avg loss: 0.449367 \n",
      "\n",
      "Epoch 63\n",
      "-------------------------------\n",
      "loss: 0.239336  [   75/60000]\n",
      "Test Error: \n",
      " Accuracy: 84.1%, Avg loss: 0.449417 \n",
      "\n",
      "Epoch 64\n",
      "-------------------------------\n",
      "loss: 0.239092  [   75/60000]\n",
      "Test Error: \n",
      " Accuracy: 84.1%, Avg loss: 0.449467 \n",
      "\n",
      "Epoch 65\n",
      "-------------------------------\n",
      "loss: 0.238848  [   75/60000]\n",
      "Test Error: \n",
      " Accuracy: 84.1%, Avg loss: 0.449517 \n",
      "\n",
      "Epoch 66\n",
      "-------------------------------\n",
      "loss: 0.238604  [   75/60000]\n",
      "Test Error: \n",
      " Accuracy: 84.1%, Avg loss: 0.449566 \n",
      "\n",
      "Epoch 67\n",
      "-------------------------------\n",
      "loss: 0.238364  [   75/60000]\n",
      "Test Error: \n",
      " Accuracy: 84.1%, Avg loss: 0.449615 \n",
      "\n",
      "Epoch 68\n",
      "-------------------------------\n",
      "loss: 0.238129  [   75/60000]\n",
      "Test Error: \n",
      " Accuracy: 84.0%, Avg loss: 0.449665 \n",
      "\n",
      "Epoch 69\n",
      "-------------------------------\n",
      "loss: 0.237890  [   75/60000]\n",
      "Test Error: \n",
      " Accuracy: 84.0%, Avg loss: 0.449716 \n",
      "\n",
      "Epoch 70\n",
      "-------------------------------\n",
      "loss: 0.237655  [   75/60000]\n",
      "Test Error: \n",
      " Accuracy: 84.0%, Avg loss: 0.449766 \n",
      "\n",
      "Epoch 71\n",
      "-------------------------------\n",
      "loss: 0.237421  [   75/60000]\n",
      "Test Error: \n",
      " Accuracy: 84.1%, Avg loss: 0.449816 \n",
      "\n",
      "Epoch 72\n",
      "-------------------------------\n",
      "loss: 0.237186  [   75/60000]\n",
      "Test Error: \n",
      " Accuracy: 84.0%, Avg loss: 0.449866 \n",
      "\n",
      "Epoch 73\n",
      "-------------------------------\n",
      "loss: 0.236952  [   75/60000]\n",
      "Test Error: \n",
      " Accuracy: 84.1%, Avg loss: 0.449915 \n",
      "\n",
      "Epoch 74\n",
      "-------------------------------\n",
      "loss: 0.236722  [   75/60000]\n",
      "Test Error: \n",
      " Accuracy: 84.1%, Avg loss: 0.449966 \n",
      "\n",
      "Epoch 75\n",
      "-------------------------------\n",
      "loss: 0.236493  [   75/60000]\n",
      "Test Error: \n",
      " Accuracy: 84.0%, Avg loss: 0.450016 \n",
      "\n",
      "Epoch 76\n",
      "-------------------------------\n",
      "loss: 0.236263  [   75/60000]\n",
      "Test Error: \n",
      " Accuracy: 84.0%, Avg loss: 0.450066 \n",
      "\n",
      "Epoch 77\n",
      "-------------------------------\n",
      "loss: 0.236042  [   75/60000]\n",
      "Test Error: \n",
      " Accuracy: 84.0%, Avg loss: 0.450115 \n",
      "\n",
      "Epoch 78\n",
      "-------------------------------\n",
      "loss: 0.235817  [   75/60000]\n",
      "Test Error: \n",
      " Accuracy: 84.0%, Avg loss: 0.450164 \n",
      "\n",
      "Epoch 79\n",
      "-------------------------------\n",
      "loss: 0.235596  [   75/60000]\n",
      "Test Error: \n",
      " Accuracy: 84.0%, Avg loss: 0.450215 \n",
      "\n",
      "Epoch 80\n",
      "-------------------------------\n",
      "loss: 0.235375  [   75/60000]\n",
      "Test Error: \n",
      " Accuracy: 84.0%, Avg loss: 0.450264 \n",
      "\n",
      "Epoch 81\n",
      "-------------------------------\n",
      "loss: 0.235151  [   75/60000]\n",
      "Test Error: \n",
      " Accuracy: 84.0%, Avg loss: 0.450314 \n",
      "\n",
      "Epoch 82\n",
      "-------------------------------\n",
      "loss: 0.234934  [   75/60000]\n",
      "Test Error: \n",
      " Accuracy: 84.1%, Avg loss: 0.450365 \n",
      "\n",
      "Epoch 83\n",
      "-------------------------------\n",
      "loss: 0.234714  [   75/60000]\n",
      "Test Error: \n",
      " Accuracy: 84.1%, Avg loss: 0.450416 \n",
      "\n",
      "Epoch 84\n",
      "-------------------------------\n",
      "loss: 0.234493  [   75/60000]\n",
      "Test Error: \n",
      " Accuracy: 84.0%, Avg loss: 0.450465 \n",
      "\n",
      "Epoch 85\n",
      "-------------------------------\n",
      "loss: 0.234281  [   75/60000]\n",
      "Test Error: \n",
      " Accuracy: 84.0%, Avg loss: 0.450515 \n",
      "\n",
      "Epoch 86\n",
      "-------------------------------\n",
      "loss: 0.234067  [   75/60000]\n",
      "Test Error: \n",
      " Accuracy: 84.0%, Avg loss: 0.450565 \n",
      "\n",
      "Epoch 87\n",
      "-------------------------------\n",
      "loss: 0.233849  [   75/60000]\n",
      "Test Error: \n",
      " Accuracy: 84.0%, Avg loss: 0.450615 \n",
      "\n",
      "Epoch 88\n",
      "-------------------------------\n",
      "loss: 0.233639  [   75/60000]\n",
      "Test Error: \n",
      " Accuracy: 84.0%, Avg loss: 0.450663 \n",
      "\n",
      "Epoch 89\n",
      "-------------------------------\n",
      "loss: 0.233435  [   75/60000]\n",
      "Test Error: \n",
      " Accuracy: 84.0%, Avg loss: 0.450713 \n",
      "\n",
      "Epoch 90\n",
      "-------------------------------\n",
      "loss: 0.233228  [   75/60000]\n",
      "Test Error: \n",
      " Accuracy: 84.0%, Avg loss: 0.450763 \n",
      "\n",
      "Epoch 91\n",
      "-------------------------------\n",
      "loss: 0.233018  [   75/60000]\n",
      "Test Error: \n",
      " Accuracy: 84.0%, Avg loss: 0.450813 \n",
      "\n",
      "Epoch 92\n",
      "-------------------------------\n",
      "loss: 0.232811  [   75/60000]\n",
      "Test Error: \n",
      " Accuracy: 84.0%, Avg loss: 0.450859 \n",
      "\n",
      "Epoch 93\n",
      "-------------------------------\n",
      "loss: 0.232611  [   75/60000]\n",
      "Test Error: \n",
      " Accuracy: 84.0%, Avg loss: 0.450909 \n",
      "\n",
      "Epoch 94\n",
      "-------------------------------\n",
      "loss: 0.232407  [   75/60000]\n",
      "Test Error: \n",
      " Accuracy: 84.0%, Avg loss: 0.450957 \n",
      "\n",
      "Epoch 95\n",
      "-------------------------------\n",
      "loss: 0.232208  [   75/60000]\n",
      "Test Error: \n",
      " Accuracy: 84.0%, Avg loss: 0.451008 \n",
      "\n",
      "Epoch 96\n",
      "-------------------------------\n",
      "loss: 0.232009  [   75/60000]\n",
      "Test Error: \n",
      " Accuracy: 84.0%, Avg loss: 0.451056 \n",
      "\n",
      "Epoch 97\n",
      "-------------------------------\n",
      "loss: 0.231813  [   75/60000]\n",
      "Test Error: \n",
      " Accuracy: 84.0%, Avg loss: 0.451105 \n",
      "\n",
      "Epoch 98\n",
      "-------------------------------\n",
      "loss: 0.231617  [   75/60000]\n",
      "Test Error: \n",
      " Accuracy: 84.0%, Avg loss: 0.451153 \n",
      "\n",
      "Epoch 99\n",
      "-------------------------------\n",
      "loss: 0.231423  [   75/60000]\n",
      "Test Error: \n",
      " Accuracy: 84.0%, Avg loss: 0.451202 \n",
      "\n",
      "Epoch 100\n",
      "-------------------------------\n",
      "loss: 0.231230  [   75/60000]\n",
      "Test Error: \n",
      " Accuracy: 84.0%, Avg loss: 0.451250 \n",
      "\n",
      "Done!\n"
     ]
    }
   ],
   "source": [
    "epochs = 100\n",
    "\n",
    "run = wandb.init(\n",
    "    project = \"MPT-Defeitos-em-cabos\",\n",
    "    config = {\n",
    "        \"learning_rate\": 1e-3,\n",
    "        \"epochs\": epochs\n",
    "    }\n",
    ")\n",
    "\n",
    "\n",
    "for t in range(epochs):\n",
    "    print(f\"Epoch {t+1}\\n-------------------------------\")\n",
    "    train(train_dataloader, model, loss_fn, optimizer)\n",
    "    test(test_dataloader, model, loss_fn)\n",
    "print(\"Done!\")"
   ]
  },
  {
   "cell_type": "markdown",
   "metadata": {},
   "source": [
    "### Saving pytorch models"
   ]
  },
  {
   "cell_type": "code",
   "execution_count": 34,
   "metadata": {},
   "outputs": [
    {
     "name": "stdout",
     "output_type": "stream",
     "text": [
      "Saved Pytorch Model State to pytorch_model.pth\n"
     ]
    }
   ],
   "source": [
    "torch.save(model.state_dict(), \"./models/pytorch_model.pth\")\n",
    "print(\"Saved Pytorch Model State to pytorch_model.pth\")"
   ]
  },
  {
   "cell_type": "markdown",
   "metadata": {},
   "source": [
    "### Loading model"
   ]
  },
  {
   "cell_type": "code",
   "execution_count": 35,
   "metadata": {},
   "outputs": [
    {
     "data": {
      "text/plain": [
       "<All keys matched successfully>"
      ]
     },
     "execution_count": 35,
     "metadata": {},
     "output_type": "execute_result"
    }
   ],
   "source": [
    "model = NeuralNetwork().to(device)\n",
    "model.load_state_dict(torch.load(\"./models/pytorch_model.pth\", weights_only = True))"
   ]
  },
  {
   "cell_type": "code",
   "execution_count": 89,
   "metadata": {},
   "outputs": [
    {
     "name": "stdout",
     "output_type": "stream",
     "text": [
      "Predicted: Ankle boot, Actual: Ankle boot\n"
     ]
    },
    {
     "data": {
      "image/png": "[encoded data removed]",
      "text/plain": [
       "<Figure size 640x480 with 1 Axes>"
      ]
     },
     "metadata": {
      "image/png": {
       "height": 413,
       "width": 417
      }
     },
     "output_type": "display_data"
    }
   ],
   "source": [
    "classes = [\n",
    "    \"T-shirt/top\",\n",
    "    \"Trousser\",\n",
    "    \"Pullover\",\n",
    "    \"Dress\",\n",
    "    \"Coat\",\n",
    "    \"Sandal\",\n",
    "    \"Shirt\",\n",
    "    \"Sneaker\",\n",
    "    \"Bag\",\n",
    "    \"Ankle boot\",\n",
    "]\n",
    "\n",
    "model.eval()\n",
    "\n",
    "\n",
    "x, y = test_data[0][0], test_data[0][1]\n",
    "\n",
    "with torch.no_grad():\n",
    "    x = x.to(device)\n",
    "    pred = model(x)\n",
    "    predicted, actual = classes[pred[0].argmax(0)], classes[y]\n",
    "    print(f\"Predicted: {predicted}, Actual: {actual}\")\n",
    "    plt.imshow(test_data[0][0].reshape((28,28)));\n"
   ]
  },
  {
   "cell_type": "code",
   "execution_count": 42,
   "metadata": {},
   "outputs": [
    {
     "name": "stdout",
     "output_type": "stream",
     "text": [
      "State.received\n"
     ]
    }
   ],
   "source": [
    "from enum import Enum\n",
    "\n",
    "class State(Enum):\n",
    "    sending = 0\n",
    "    received = 1\n",
    "    waiting = 2\n",
    "    \n",
    "Status = State.received\n",
    "print(Status)"
   ]
  },
  {
   "cell_type": "code",
   "execution_count": null,
   "metadata": {},
   "outputs": [],
   "source": []
  }
 ],
 "metadata": {
  "kernelspec": {
   "display_name": "pytorch",
   "language": "python",
   "name": "python3"
  },
  "language_info": {
   "codemirror_mode": {
    "name": "ipython",
    "version": 3
   },
   "file_extension": ".py",
   "mimetype": "text/x-python",
   "name": "python",
   "nbconvert_exporter": "python",
   "pygments_lexer": "ipython3",
   "version": "3.8.19"
  }
 },
 "nbformat": 4,
 "nbformat_minor": 2
}
